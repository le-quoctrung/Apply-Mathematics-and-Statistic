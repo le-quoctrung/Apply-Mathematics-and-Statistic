{
 "cells": [
  {
   "cell_type": "markdown",
   "metadata": {},
   "source": [
    "# <center>Đồ án 3: Linear Regression</center>"
   ]
  },
  {
   "cell_type": "markdown",
   "metadata": {},
   "source": [
    "# Thông tin sinh viên\n",
    "\n",
    "- Họ và tên: Lê Quốc Trung\n",
    "- MSSV: 20127369\n",
    "- Lớp: 20clc11"
   ]
  },
  {
   "cell_type": "markdown",
   "metadata": {},
   "source": [
    "# Import"
   ]
  },
  {
   "cell_type": "code",
   "execution_count": 13,
   "metadata": {},
   "outputs": [],
   "source": [
    "import pandas as pd\n",
    "import numpy as np\n",
    "from sklearn.model_selection import *\n",
    "from operator import itemgetter\n",
    "\n",
    "# Import thêm dữ thư viện nếu cần"
   ]
  },
  {
   "cell_type": "markdown",
   "metadata": {},
   "source": [
    "# Đọc dữ liệu"
   ]
  },
  {
   "cell_type": "code",
   "execution_count": 14,
   "metadata": {},
   "outputs": [],
   "source": [
    "# Đọc dữ liệu bằng pandas\n",
    "train = pd.read_csv('train.csv')\n",
    "test = pd.read_csv('test.csv')\n",
    "\n",
    "# Lấy các đặc trưng X và giá trị mục tiêu y cho các tập huấn luyện (train) và kiểm tra (test)\n",
    "X_train = train.iloc[:, :-1]    # Dataframe (chứa 10 đặc trưng huấn luyện)\n",
    "y_train = train.iloc[:, -1]     # Series    (chứa 1 giá trị mục tiêu kiểm tra)\n",
    "\n",
    "X_test = test.iloc[:, :-1]      # Dataframe (chứa 10 đặc trưng kiểm tra)\n",
    "y_test = test.iloc[:, -1]       # Series    (chứa 1 giá trị mục tiêu kiểm tra)\n",
    "\n",
    "#x,y cần chuyển về cho phù hợp với numpy\n",
    "#lr.fit(x_train, y_train)\n",
    "#lr.get_params -> w1, w2,...\n",
    "#lr.predict(x_test) ->y_test_predict\n",
    "# Sinh viên có thể sử dụng các khác nếu cần"
   ]
  },
  {
   "cell_type": "markdown",
   "metadata": {},
   "source": [
    "# Cài đặt hàm"
   ]
  },
  {
   "cell_type": "code",
   "execution_count": 15,
   "metadata": {},
   "outputs": [],
   "source": [
    "class OLSLinearRegression:\n",
    "    def fit(self, x, y):   \n",
    "        X_pinv = np.linalg.inv(x.T @ x) @ x.T    \n",
    "        self.w = X_pinv @ y\n",
    "        return self\n",
    "\n",
    "    def get_params(self):\n",
    "        return self.w\n",
    "\n",
    "    def predict(self, x):\n",
    "        return np.sum(self.w.ravel() * x, axis=1)\n",
    "\n",
    "\n",
    "def LinearRegression(x_train, y_train, x_test, y_test):\n",
    "    x_train = np.array(x_train)\n",
    "    if x_train.shape.__len__() == 1:\n",
    "        x_train = x_train.reshape(-1, 1)\n",
    "    y_train = np.array(y_train)\n",
    "    x_test = np.array(x_test)\n",
    "    if x_test.shape.__len__() == 1:\n",
    "        x_test = x_test.reshape(-1, 1)\n",
    "    y_test = np.array(y_test)\n",
    "\n",
    "    lr = OLSLinearRegression().fit(x_train, y_train)\n",
    "    \n",
    "    y_hat = lr.predict(x_test)\n",
    "    x_hat = lr.get_params().reshape(-1)\n",
    "    RMSE = np.sqrt(np.mean((y_test.ravel() - y_hat.ravel())**2))\n",
    "    \n",
    "    \n",
    "    return x_hat, RMSE\n",
    "    "
   ]
  },
  {
   "cell_type": "markdown",
   "metadata": {},
   "source": [
    "# Yêu cầu 1a: Sử dụng toàn bộ 10 đặc trưng đề bài cung cấp (2 điểm) "
   ]
  },
  {
   "cell_type": "code",
   "execution_count": 16,
   "metadata": {},
   "outputs": [
    {
     "name": "stdout",
     "output_type": "stream",
     "text": [
      "[ 1.51013627e-02  9.02199807e-02  4.29218175e-02  1.39289117e-01\n",
      " -5.67332827e-01 -1.00765115e-04  7.40713438e-01  1.90935798e-01\n",
      "  2.45059736e+01  2.39351661e+00]\n"
     ]
    }
   ],
   "source": [
    "# Phần code cho yêu cầu 1a\n",
    "x_hat, rmse = LinearRegression(X_train, y_train, X_test, y_test)\n",
    "    \n",
    "print(x_hat)"
   ]
  },
  {
   "cell_type": "code",
   "execution_count": 17,
   "metadata": {},
   "outputs": [
    {
     "name": "stdout",
     "output_type": "stream",
     "text": [
      "7.0640464305843516\n"
     ]
    }
   ],
   "source": [
    "# Gọi hàm RMSE (tự cài đặt hoặc từ thư viện) trên tập kiểm tra\n",
    "print(rmse)"
   ]
  },
  {
   "cell_type": "markdown",
   "metadata": {},
   "source": [
    "Công thức hồi quy\n",
    "\n",
    "$$\\text{Life expectancy} = 1.5e-02*Adult Mortality + 9.02e-02*BMI + 4.29e-02Polio + 1.39e-01*Diphtheria - 5.6e-01*IV/AIDS - 1.007e-04*GDP + 7.4e-01*Thinness age 10-19 + 1.9e-01*Thinness age 5-9 + 2.4e+01*Income composition of resources + 2.39e+00*Schooling$$"
   ]
  },
  {
   "cell_type": "markdown",
   "metadata": {},
   "source": [
    "# Yêu cầu 1b: Xây dựng mô hình sử dụng duy nhất 1 đặc trưng, tìm mô hình cho kết quả tốt nhất (2 điểm)"
   ]
  },
  {
   "cell_type": "markdown",
   "metadata": {},
   "source": [
    "Lưu ý: khi sử dụng cross-validation, sinh viên cần xáo trộn dữ liệu 1 lần duy nhất và thực hiện trên toàn bộ đặc trưng"
   ]
  },
  {
   "cell_type": "code",
   "execution_count": 18,
   "metadata": {},
   "outputs": [
    {
     "name": "stdout",
     "output_type": "stream",
     "text": [
      "best feature:  Schooling 11.7913645544782\n",
      "[2.47811218e-01 1.50570692e+00 7.85639969e-01 7.84449481e-01\n",
      " 3.59956670e+00 3.02707761e-03 6.93121801e+00 6.88324411e+00\n",
      " 1.04706343e+02 5.55751915e+00]\n",
      "[46.22171015 27.90662293 18.00479374 16.01299507 67.12203248 60.22180982\n",
      " 51.82214495 51.73701657 13.33212111 11.79136455]\n",
      "9\n"
     ]
    }
   ],
   "source": [
    "# Phần code cho yêu cầu 1b\n",
    "# Tìm ra đặc trưng tốt nhất\n",
    "# In ra các kết quả cross-validation như yêu cầu\n",
    "column = [\"Adult Mortality\", \"BMI\", \"Polio\", \"Diphtheria\", \"HIV/AIDS\", \"GDP\", \"Thinness age 10-19\", \"Thinness age 5-9\", \"Income composition of resources\", \"Schooling\", \"Life expectancy\"]\n",
    "feature = [each for each in column if each != 'Life expectancy']\n",
    "def KFold_CrossValidation(data, feature, k=5):\n",
    "    \n",
    "    col = data.shape[1] - 1\n",
    "    x_hat = np.zeros(col)\n",
    "    data_rmse = np.zeros(col)\n",
    "    \n",
    "    kf = KFold(n_splits=k, shuffle=True)\n",
    "    \n",
    "    for train_id, test_id in kf.split(data):\n",
    "        train_data = data.iloc[train_id]\n",
    "        test_data = data.iloc[test_id]\n",
    "        i = 0\n",
    "        for each in feature:\n",
    "            temp_train = train_data.loc[:, [each, 'Life expectancy']]\n",
    "            feature_train = temp_train.loc[:,[each]]\n",
    "            label_train = temp_train.loc[:,['Life expectancy']]\n",
    "            train_x, train_y = feature_train, label_train\n",
    "\n",
    "            temp_test = test_data.loc[:, [each, 'Life expectancy']]\n",
    "            feature_test = temp_test.loc[:,[each]]\n",
    "            label_test = temp_test.loc[:,['Life expectancy']]\n",
    "            test_x, test_y = feature_test, label_test\n",
    "            \n",
    "            x_hat_lr, rmse = LinearRegression(train_x, train_y, test_x, test_y)\n",
    "            \n",
    "            x_hat[i] += x_hat_lr\n",
    "            data_rmse[i] +=rmse\n",
    "            i += 1  \n",
    "        \n",
    "    x_hat /= 5\n",
    "    data_rmse /= 5\n",
    "    \n",
    "    best_feature_index = min(enumerate(data_rmse), key=itemgetter(1))[0]\n",
    "    \n",
    "    \n",
    "    return x_hat, data_rmse, best_feature_index\n",
    "\n",
    "\n",
    "x_hat_list, rmse_list, best_feature = KFold_CrossValidation(train, feature)\n",
    "print(\"best feature: \", column[best_feature], rmse_list[best_feature])\n",
    "print(x_hat_list)\n",
    "print(rmse_list)\n",
    "print(best_feature)"
   ]
  },
  {
   "cell_type": "code",
   "execution_count": 19,
   "metadata": {},
   "outputs": [
    {
     "name": "stdout",
     "output_type": "stream",
     "text": [
      "[5.5573994]\n"
     ]
    }
   ],
   "source": [
    "# Huấn luyện lại mô hình best_feature_model với đặc trưng tốt nhất trên toàn bộ tập huấn luyện\n",
    "x_hat, rmse = LinearRegression(X_train[column[best_feature]], y_train, X_test[column[best_feature]], y_test)\n",
    "\n",
    "print(x_hat)\n"
   ]
  },
  {
   "cell_type": "code",
   "execution_count": 20,
   "metadata": {},
   "outputs": [
    {
     "name": "stdout",
     "output_type": "stream",
     "text": [
      "10.26095039165537\n"
     ]
    }
   ],
   "source": [
    "# Gọi hàm RMSE (tự cài đặt hoặc từ thư viện) trên tập kiểm tra với mô hình best_feature_model\n",
    "\n",
    "print(rmse)"
   ]
  },
  {
   "cell_type": "markdown",
   "metadata": {},
   "source": [
    "Công thức hồi quy\n",
    "\n",
    "$$\\text{Life expectancy} = 5.55 * Schooling$$"
   ]
  },
  {
   "cell_type": "markdown",
   "metadata": {},
   "source": [
    "# Yêu cầu 1c: Sinh viên tự xây dựng mô hình, tìm mô hình cho kết quả tốt nhất (3 điểm)"
   ]
  },
  {
   "cell_type": "code",
   "execution_count": 21,
   "metadata": {},
   "outputs": [],
   "source": [
    "# Phần code cho yêu cầu 1c\n",
    "# Tìm ra mô hình tốt nhất (tự thiết kế bởi sinh viên)\n",
    "# In ra các kết quả cross-validation như yêu cầu\n",
    "def process_data1(train):\n",
    "    data = train.loc[:, [\"Adult Mortality\", \"BMI\", \"Polio\", \"Diphtheria\", \"HIV/AIDS\", \"GDP\", \"Thinness age 10-19\", \"Thinness age 5-9\", \"Income composition of resources\", \"Schooling\", \"Life expectancy\"]]\n",
    "    data['Model 1'] = data.iloc[:, :-1].sum(axis=1)\n",
    "    return data.loc[:, ['Model 1', 'Life expectancy']]\n",
    "\n",
    "def process_data2(train):\n",
    "    data = train.loc[:, [\"Diphtheria\", \"Income composition of resources\", \"Schooling\", 'Life expectancy']]\n",
    "    data['Model 2'] = data.iloc[:, :-1].sum(axis=1)\n",
    "    return data.loc[:, ['Model 2', 'Life expectancy']]\n",
    "\n",
    "def process_data3(train):\n",
    "    data = train.loc[:, ['GDP', 'Life expectancy']]\n",
    "    data['Model 3'] = data['GDP']\n",
    "    return data.loc[:, ['Model 3', 'Life expectancy']]\n",
    "\n",
    "def process_data4(train):\n",
    "    data = train.loc[:, ['GDP','Life expectancy']]\n",
    "    data['Model 4'] = np.sqrt(data['GDP'])\n",
    "    return data.loc[:, ['Model 4', 'Life expectancy']]"
   ]
  },
  {
   "cell_type": "code",
   "execution_count": 22,
   "metadata": {},
   "outputs": [
    {
     "name": "stdout",
     "output_type": "stream",
     "text": [
      "[59.13710468]\n",
      "[14.20886525]\n",
      "[60.20071271]\n",
      "[43.79480973]\n",
      "[66.15172228]\n",
      "[6.37130943]\n",
      "[24.42182241]\n"
     ]
    }
   ],
   "source": [
    "# Phần code cho yêu cầu 1c\n",
    "# Tìm ra mô hình tốt nhất (tự thiết kế bởi sinh viên)\n",
    "# In ra các kết quả cross-validation như yêu cầu\n",
    "def process_data1(train):\n",
    "    data = train.loc[:, [\"Adult Mortality\", \"BMI\", \"Polio\", \"Diphtheria\", \"HIV/AIDS\", \"GDP\", \"Thinness age 10-19\", \"Thinness age 5-9\", \"Income composition of resources\", \"Schooling\", \"Life expectancy\"]]\n",
    "    data['Model 1'] = data.iloc[:, :-1].sum(axis=1)\n",
    "    return data.loc[:, ['Model 1', 'Life expectancy']]\n",
    "\n",
    "def process_data2(train):\n",
    "    data = train.loc[:, [\"Diphtheria\", \"Income composition of resources\", \"Schooling\", 'Life expectancy']]\n",
    "    data['Model 2'] = data.iloc[:, :-1].sum(axis=1)\n",
    "    return data.loc[:, ['Model 2', 'Life expectancy']]\n",
    "\n",
    "def process_data3(train):\n",
    "    data = train.loc[:, ['GDP', 'Life expectancy']]\n",
    "    data['Model 3'] = data['GDP']\n",
    "    return data.loc[:, ['Model 3', 'Life expectancy']]\n",
    "\n",
    "def process_data4(train):\n",
    "    data = train.loc[:, ['GDP','Life expectancy']]\n",
    "    data['Model 4'] = np.sqrt(data['GDP'])\n",
    "    return data.loc[:, ['Model 4', 'Life expectancy']]\n",
    "\n",
    "def process_data5(train):\n",
    "    data = train.loc[:, ['GDP', 'Life expectancy']]\n",
    "    data['Model 5'] = data['GDP']**2\n",
    "    return data.loc[:, ['Model 5', 'Life expectancy']]\n",
    "\n",
    "def process_data6(train):\n",
    "    data = train.loc[:, ['Schooling', 'Life expectancy']]\n",
    "    data['Model 6'] = np.sqrt(data['Schooling'])\n",
    "    return data.loc[:, ['Model 6', 'Life expectancy']]\n",
    "\n",
    "def process_data7(train):\n",
    "    data = train.loc[:, ['Schooling', 'Life expectancy']]\n",
    "    data['Model 7'] = data['Schooling']**2\n",
    "    return data.loc[:, ['Model 7', 'Life expectancy']]\n",
    "\n",
    "\n",
    "# sum all feature\n",
    "data1 = process_data1(train)\n",
    "                     \n",
    "# sum of 3 best feature\n",
    "data2 = process_data2(train)\n",
    "                     \n",
    "# choose 1 bad feature (high rmse)\n",
    "data3 = process_data3(train)\n",
    "                     \n",
    "# sqrt(data3)\n",
    "data4 = process_data4(train)\n",
    "                     \n",
    "# square(data3)\n",
    "data5 = process_data5(train)\n",
    "                     \n",
    "# sqrt(best_feature)\n",
    "data6 = process_data6(train)\n",
    "                     \n",
    "# square(best_feature)\n",
    "data7 = process_data7(train)\n",
    "\n",
    "x_hat1, rmse1, temp = KFold_CrossValidation(data1, ['Model 1'])\n",
    "x_hat2, rmse2, temp = KFold_CrossValidation(data2, ['Model 2'])\n",
    "x_hat3, rmse3, temp = KFold_CrossValidation(data3, ['Model 3'])\n",
    "x_hat4, rmse4, temp = KFold_CrossValidation(data4, ['Model 4'])\n",
    "x_hat5, rmse5, temp = KFold_CrossValidation(data5, ['Model 5'])\n",
    "x_hat6, rmse6, temp = KFold_CrossValidation(data6, ['Model 6'])\n",
    "x_hat7, rmse7, temp = KFold_CrossValidation(data7, ['Model 7'])\n",
    "\n",
    "print(rmse1, rmse2, rmse3, rmse4, rmse5, rmse6, rmse7, sep='\\n')\n",
    "\n",
    "\n"
   ]
  },
  {
   "cell_type": "code",
   "execution_count": 23,
   "metadata": {},
   "outputs": [
    {
     "name": "stdout",
     "output_type": "stream",
     "text": [
      "[20.02508698]\n"
     ]
    }
   ],
   "source": [
    "# Huấn luyện lại mô hình my_best_model trên toàn bộ tập huấn luyện\n",
    "my_best_model_test = test.loc[:, ['Schooling']]\n",
    "my_best_model_test['Model 6'] = np.sqrt(my_best_model_test['Schooling'])\n",
    "#rint(my_best_model_test['Model 6'])\n",
    "#print()\n",
    "my_best_model_x, my_best_model_rmse = LinearRegression(data6['Model 6'], y_train, my_best_model_test['Model 6'], y_test)\n",
    "print(my_best_model_x)"
   ]
  },
  {
   "cell_type": "code",
   "execution_count": 24,
   "metadata": {},
   "outputs": [
    {
     "name": "stdout",
     "output_type": "stream",
     "text": [
      "5.318134128327009\n"
     ]
    }
   ],
   "source": [
    "# Gọi hàm RMSE (tự cài đặt hoặc từ thư viện) trên tập kiểm tra với mô hình my_best_model\n",
    "print(my_best_model_rmse)"
   ]
  },
  {
   "cell_type": "markdown",
   "metadata": {},
   "source": [
    "Công thức hồi quy\n",
    "\n",
    "$$\\text{Life expectancy} = 20.02 * sqrt(Schooling)$$"
   ]
  }
 ],
 "metadata": {
  "kernelspec": {
   "display_name": "Python 3 (ipykernel)",
   "language": "python",
   "name": "python3"
  },
  "language_info": {
   "codemirror_mode": {
    "name": "ipython",
    "version": 3
   },
   "file_extension": ".py",
   "mimetype": "text/x-python",
   "name": "python",
   "nbconvert_exporter": "python",
   "pygments_lexer": "ipython3",
   "version": "3.8.10"
  },
  "vscode": {
   "interpreter": {
    "hash": "15af99fd1a1a3f0a3416ea421564e792a8676a13670c2eed127d89ab0518a27b"
   }
  }
 },
 "nbformat": 4,
 "nbformat_minor": 2
}
